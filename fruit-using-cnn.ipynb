{
 "cells": [
  {
   "cell_type": "code",
   "execution_count": 1,
   "id": "e8af4afc",
   "metadata": {
    "execution": {
     "iopub.execute_input": "2022-05-18T17:21:39.777636Z",
     "iopub.status.busy": "2022-05-18T17:21:39.777158Z",
     "iopub.status.idle": "2022-05-18T17:21:46.028407Z",
     "shell.execute_reply": "2022-05-18T17:21:46.027470Z"
    },
    "papermill": {
     "duration": 6.276753,
     "end_time": "2022-05-18T17:21:46.030909",
     "exception": false,
     "start_time": "2022-05-18T17:21:39.754156",
     "status": "completed"
    },
    "tags": []
   },
   "outputs": [],
   "source": [
    "# Load the libraries\n",
    "import pandas as pd\n",
    "import numpy as np\n",
    "import seaborn as sns\n",
    "import os\n",
    "import cv2\n",
    "import matplotlib.pyplot as plt\n",
    "import random\n",
    "from sklearn.model_selection import train_test_split\n",
    "import keras\n",
    "from keras import Sequential\n",
    "from keras.layers import Activation, Dropout, Flatten, Dense, Conv2D, MaxPooling2D\n",
    "from tensorflow.keras.utils import to_categorical\n",
    "from matplotlib.image import imread"
   ]
  },
  {
   "cell_type": "code",
   "execution_count": 2,
   "id": "db3e7554",
   "metadata": {
    "execution": {
     "iopub.execute_input": "2022-05-18T17:21:46.058794Z",
     "iopub.status.busy": "2022-05-18T17:21:46.058045Z",
     "iopub.status.idle": "2022-05-18T17:21:46.063381Z",
     "shell.execute_reply": "2022-05-18T17:21:46.062529Z"
    },
    "papermill": {
     "duration": 0.021191,
     "end_time": "2022-05-18T17:21:46.065211",
     "exception": false,
     "start_time": "2022-05-18T17:21:46.044020",
     "status": "completed"
    },
    "tags": []
   },
   "outputs": [],
   "source": [
    "train_dir = \"/kaggle/input/fruit10dataset/train/train\"\n",
    "test_dir  = \"/kaggle/input/fruit10dataset/test/test\""
   ]
  },
  {
   "cell_type": "code",
   "execution_count": 3,
   "id": "d7df64f6",
   "metadata": {
    "execution": {
     "iopub.execute_input": "2022-05-18T17:21:46.090839Z",
     "iopub.status.busy": "2022-05-18T17:21:46.090391Z",
     "iopub.status.idle": "2022-05-18T17:21:46.520166Z",
     "shell.execute_reply": "2022-05-18T17:21:46.519245Z"
    },
    "papermill": {
     "duration": 0.445818,
     "end_time": "2022-05-18T17:21:46.522690",
     "exception": false,
     "start_time": "2022-05-18T17:21:46.076872",
     "status": "completed"
    },
    "tags": []
   },
   "outputs": [
    {
     "name": "stdout",
     "output_type": "stream",
     "text": [
      "Found 4818 images belonging to 10 classes.\n"
     ]
    }
   ],
   "source": [
    "from tensorflow.keras.preprocessing.image import ImageDataGenerator\n",
    "\n",
    "target_size = (150,150)\n",
    "batch_size = 16\n",
    "\n",
    "# Data Generator\n",
    "train_datagen = ImageDataGenerator(\n",
    "    rescale=1./255,\n",
    "    rotation_range=40,\n",
    "    width_shift_range=0.2,\n",
    "    height_shift_range=0.2,\n",
    "    shear_range=0.2,\n",
    "    zoom_range=0.2,\n",
    "    horizontal_flip=True,\n",
    "    vertical_flip=True\n",
    ")\n",
    "\n",
    "train_generator = train_datagen.flow_from_directory(\n",
    "    train_dir,\n",
    "    target_size=target_size,\n",
    "    batch_size=batch_size,\n",
    "    color_mode='rgb',    \n",
    "    shuffle=True,\n",
    "    seed=42,\n",
    "    class_mode='categorical')"
   ]
  },
  {
   "cell_type": "code",
   "execution_count": 4,
   "id": "6ddaa05f",
   "metadata": {
    "execution": {
     "iopub.execute_input": "2022-05-18T17:21:46.551441Z",
     "iopub.status.busy": "2022-05-18T17:21:46.550773Z",
     "iopub.status.idle": "2022-05-18T17:21:46.768106Z",
     "shell.execute_reply": "2022-05-18T17:21:46.767254Z"
    },
    "papermill": {
     "duration": 0.234121,
     "end_time": "2022-05-18T17:21:46.770645",
     "exception": false,
     "start_time": "2022-05-18T17:21:46.536524",
     "status": "completed"
    },
    "tags": []
   },
   "outputs": [
    {
     "name": "stdout",
     "output_type": "stream",
     "text": [
      "Found 1615 images belonging to 10 classes.\n"
     ]
    }
   ],
   "source": [
    "test_datagen = ImageDataGenerator(rescale=1./255)\n",
    "\n",
    "test_generator = test_datagen.flow_from_directory(\n",
    "    test_dir,\n",
    "    target_size=target_size,\n",
    "    batch_size=batch_size,\n",
    "    color_mode='rgb',\n",
    "    shuffle=False,    \n",
    "    class_mode='categorical')"
   ]
  },
  {
   "cell_type": "code",
   "execution_count": 5,
   "id": "7594a33c",
   "metadata": {
    "execution": {
     "iopub.execute_input": "2022-05-18T17:21:46.799521Z",
     "iopub.status.busy": "2022-05-18T17:21:46.798958Z",
     "iopub.status.idle": "2022-05-18T17:21:49.734817Z",
     "shell.execute_reply": "2022-05-18T17:21:49.732420Z"
    },
    "papermill": {
     "duration": 2.952611,
     "end_time": "2022-05-18T17:21:49.737539",
     "exception": false,
     "start_time": "2022-05-18T17:21:46.784928",
     "status": "completed"
    },
    "tags": []
   },
   "outputs": [
    {
     "name": "stderr",
     "output_type": "stream",
     "text": [
      "2022-05-18 17:21:46.910798: I tensorflow/stream_executor/cuda/cuda_gpu_executor.cc:937] successful NUMA node read from SysFS had negative value (-1), but there must be at least one NUMA node, so returning NUMA node zero\n",
      "2022-05-18 17:21:47.060541: I tensorflow/stream_executor/cuda/cuda_gpu_executor.cc:937] successful NUMA node read from SysFS had negative value (-1), but there must be at least one NUMA node, so returning NUMA node zero\n",
      "2022-05-18 17:21:47.061430: I tensorflow/stream_executor/cuda/cuda_gpu_executor.cc:937] successful NUMA node read from SysFS had negative value (-1), but there must be at least one NUMA node, so returning NUMA node zero\n",
      "2022-05-18 17:21:47.062911: I tensorflow/core/platform/cpu_feature_guard.cc:142] This TensorFlow binary is optimized with oneAPI Deep Neural Network Library (oneDNN) to use the following CPU instructions in performance-critical operations:  AVX2 AVX512F FMA\n",
      "To enable them in other operations, rebuild TensorFlow with the appropriate compiler flags.\n",
      "2022-05-18 17:21:47.063328: I tensorflow/stream_executor/cuda/cuda_gpu_executor.cc:937] successful NUMA node read from SysFS had negative value (-1), but there must be at least one NUMA node, so returning NUMA node zero\n",
      "2022-05-18 17:21:47.064371: I tensorflow/stream_executor/cuda/cuda_gpu_executor.cc:937] successful NUMA node read from SysFS had negative value (-1), but there must be at least one NUMA node, so returning NUMA node zero\n",
      "2022-05-18 17:21:47.065294: I tensorflow/stream_executor/cuda/cuda_gpu_executor.cc:937] successful NUMA node read from SysFS had negative value (-1), but there must be at least one NUMA node, so returning NUMA node zero\n",
      "2022-05-18 17:21:49.301677: I tensorflow/stream_executor/cuda/cuda_gpu_executor.cc:937] successful NUMA node read from SysFS had negative value (-1), but there must be at least one NUMA node, so returning NUMA node zero\n",
      "2022-05-18 17:21:49.302602: I tensorflow/stream_executor/cuda/cuda_gpu_executor.cc:937] successful NUMA node read from SysFS had negative value (-1), but there must be at least one NUMA node, so returning NUMA node zero\n",
      "2022-05-18 17:21:49.303279: I tensorflow/stream_executor/cuda/cuda_gpu_executor.cc:937] successful NUMA node read from SysFS had negative value (-1), but there must be at least one NUMA node, so returning NUMA node zero\n",
      "2022-05-18 17:21:49.304435: I tensorflow/core/common_runtime/gpu/gpu_device.cc:1510] Created device /job:localhost/replica:0/task:0/device:GPU:0 with 15403 MB memory:  -> device: 0, name: Tesla P100-PCIE-16GB, pci bus id: 0000:00:04.0, compute capability: 6.0\n"
     ]
    }
   ],
   "source": [
    "model = Sequential()\n",
    "model.add(Conv2D(32, (3, 3), activation = 'relu', kernel_initializer='he_uniform', padding = 'same', input_shape = (150, 150, 3)))\n",
    "model.add(Conv2D(32, (3, 3), activation = 'relu', kernel_initializer='he_uniform', padding= 'same', input_shape = (150, 150, 3)))\n",
    "model.add(MaxPooling2D((2,2)))\n",
    "model.add(Conv2D(64, (3, 3), activation = 'relu', kernel_initializer='he_uniform', padding = 'same'))\n",
    "model.add(Conv2D(64, (3, 3), activation = 'relu', kernel_initializer='he_uniform', padding = 'same'))\n",
    "model.add(MaxPooling2D((3, 3)))\n",
    "model.add(Conv2D(128, (3, 3), activation = 'relu', kernel_initializer='he_uniform', padding = 'same'))\n",
    "model.add(Conv2D(128, (3, 3), activation = 'relu', kernel_initializer='he_uniform', padding = 'same'))\n",
    "model.add(MaxPooling2D((3, 3)))\n",
    "model.add(Flatten())\n",
    "model.add(Dense(128, activation = 'relu', kernel_initializer='he_uniform'))\n",
    "model.add(Dense(10, activation = 'softmax'))"
   ]
  },
  {
   "cell_type": "code",
   "execution_count": 6,
   "id": "5e59a7c2",
   "metadata": {
    "execution": {
     "iopub.execute_input": "2022-05-18T17:21:49.766413Z",
     "iopub.status.busy": "2022-05-18T17:21:49.766175Z",
     "iopub.status.idle": "2022-05-18T17:21:49.781144Z",
     "shell.execute_reply": "2022-05-18T17:21:49.780415Z"
    },
    "papermill": {
     "duration": 0.0318,
     "end_time": "2022-05-18T17:21:49.783414",
     "exception": false,
     "start_time": "2022-05-18T17:21:49.751614",
     "status": "completed"
    },
    "tags": []
   },
   "outputs": [
    {
     "name": "stderr",
     "output_type": "stream",
     "text": [
      "/opt/conda/lib/python3.7/site-packages/keras/optimizer_v2/optimizer_v2.py:356: UserWarning: The `lr` argument is deprecated, use `learning_rate` instead.\n",
      "  \"The `lr` argument is deprecated, use `learning_rate` instead.\")\n"
     ]
    }
   ],
   "source": [
    "from tensorflow.keras.optimizers import SGD\n",
    "\n",
    "opt = SGD(lr = 0.01, momentum = 0.9)\n",
    "model.compile(optimizer=opt, loss = 'categorical_crossentropy', metrics=['accuracy'])"
   ]
  },
  {
   "cell_type": "code",
   "execution_count": 7,
   "id": "50ebe8a4",
   "metadata": {
    "execution": {
     "iopub.execute_input": "2022-05-18T17:21:49.815291Z",
     "iopub.status.busy": "2022-05-18T17:21:49.814638Z",
     "iopub.status.idle": "2022-05-18T17:34:29.488394Z",
     "shell.execute_reply": "2022-05-18T17:34:29.487545Z"
    },
    "papermill": {
     "duration": 759.691652,
     "end_time": "2022-05-18T17:34:29.490628",
     "exception": false,
     "start_time": "2022-05-18T17:21:49.798976",
     "status": "completed"
    },
    "tags": []
   },
   "outputs": [
    {
     "name": "stderr",
     "output_type": "stream",
     "text": [
      "2022-05-18 17:21:50.069004: I tensorflow/compiler/mlir/mlir_graph_optimization_pass.cc:185] None of the MLIR Optimization Passes are enabled (registered 2)\n"
     ]
    },
    {
     "name": "stdout",
     "output_type": "stream",
     "text": [
      "Epoch 1/20\n"
     ]
    },
    {
     "name": "stderr",
     "output_type": "stream",
     "text": [
      "2022-05-18 17:21:51.622057: I tensorflow/stream_executor/cuda/cuda_dnn.cc:369] Loaded cuDNN version 8005\n"
     ]
    },
    {
     "name": "stdout",
     "output_type": "stream",
     "text": [
      "302/302 [==============================] - 64s 188ms/step - loss: 1.8504 - accuracy: 0.2931 - val_loss: 1.7565 - val_accuracy: 0.3969\n",
      "Epoch 2/20\n",
      "302/302 [==============================] - 36s 119ms/step - loss: 1.0128 - accuracy: 0.5558 - val_loss: 1.2732 - val_accuracy: 0.4669\n",
      "Epoch 3/20\n",
      "302/302 [==============================] - 35s 116ms/step - loss: 1.2290 - accuracy: 0.4467 - val_loss: 2.1394 - val_accuracy: 0.4941\n",
      "Epoch 4/20\n",
      "302/302 [==============================] - 35s 117ms/step - loss: 0.9222 - accuracy: 0.5654 - val_loss: 2.6369 - val_accuracy: 0.6012\n",
      "Epoch 5/20\n",
      "302/302 [==============================] - 35s 116ms/step - loss: 0.7521 - accuracy: 0.6949 - val_loss: 2.0849 - val_accuracy: 0.8074\n",
      "Epoch 6/20\n",
      "302/302 [==============================] - 36s 120ms/step - loss: 0.7052 - accuracy: 0.7146 - val_loss: 2.2523 - val_accuracy: 0.8050\n",
      "Epoch 7/20\n",
      "302/302 [==============================] - 36s 120ms/step - loss: 0.4929 - accuracy: 0.8022 - val_loss: 3.1500 - val_accuracy: 0.8724\n",
      "Epoch 8/20\n",
      "302/302 [==============================] - 36s 120ms/step - loss: 0.3609 - accuracy: 0.8605 - val_loss: 6.2296 - val_accuracy: 0.7356\n",
      "Epoch 9/20\n",
      "302/302 [==============================] - 36s 118ms/step - loss: 0.3615 - accuracy: 0.8744 - val_loss: 3.0714 - val_accuracy: 0.7393\n",
      "Epoch 10/20\n",
      "302/302 [==============================] - 36s 119ms/step - loss: 0.3591 - accuracy: 0.8740 - val_loss: 3.5246 - val_accuracy: 0.8570\n",
      "Epoch 11/20\n",
      "302/302 [==============================] - 37s 122ms/step - loss: 0.2859 - accuracy: 0.9012 - val_loss: 4.9114 - val_accuracy: 0.8854\n",
      "Epoch 12/20\n",
      "302/302 [==============================] - 36s 119ms/step - loss: 0.4074 - accuracy: 0.8599 - val_loss: 4.6536 - val_accuracy: 0.8235\n",
      "Epoch 13/20\n",
      "302/302 [==============================] - 36s 120ms/step - loss: 0.1807 - accuracy: 0.9379 - val_loss: 6.2092 - val_accuracy: 0.8421\n",
      "Epoch 14/20\n",
      "302/302 [==============================] - 36s 120ms/step - loss: 0.1865 - accuracy: 0.9369 - val_loss: 4.3796 - val_accuracy: 0.8638\n",
      "Epoch 15/20\n",
      "302/302 [==============================] - 37s 122ms/step - loss: 0.1776 - accuracy: 0.9398 - val_loss: 4.3733 - val_accuracy: 0.8978\n",
      "Epoch 16/20\n",
      "302/302 [==============================] - 37s 123ms/step - loss: 0.1449 - accuracy: 0.9502 - val_loss: 4.1759 - val_accuracy: 0.7944\n",
      "Epoch 17/20\n",
      "302/302 [==============================] - 39s 129ms/step - loss: 0.1130 - accuracy: 0.9628 - val_loss: 5.7545 - val_accuracy: 0.8854\n",
      "Epoch 18/20\n",
      "302/302 [==============================] - 38s 125ms/step - loss: 0.0784 - accuracy: 0.9749 - val_loss: 4.7608 - val_accuracy: 0.8873\n",
      "Epoch 19/20\n",
      "302/302 [==============================] - 36s 119ms/step - loss: 2.0155 - accuracy: 0.2352 - val_loss: 1.9893 - val_accuracy: 0.2031\n",
      "Epoch 20/20\n",
      "302/302 [==============================] - 36s 120ms/step - loss: 2.0579 - accuracy: 0.1972 - val_loss: 2.0040 - val_accuracy: 0.2031\n"
     ]
    }
   ],
   "source": [
    "history = model.fit(train_generator, batch_size = 64, epochs = 20, validation_data = test_generator, verbose = 1)"
   ]
  },
  {
   "cell_type": "code",
   "execution_count": 8,
   "id": "0a13e663",
   "metadata": {
    "execution": {
     "iopub.execute_input": "2022-05-18T17:34:33.891025Z",
     "iopub.status.busy": "2022-05-18T17:34:33.890727Z",
     "iopub.status.idle": "2022-05-18T17:34:36.435719Z",
     "shell.execute_reply": "2022-05-18T17:34:36.434637Z"
    },
    "papermill": {
     "duration": 4.695556,
     "end_time": "2022-05-18T17:34:36.438385",
     "exception": false,
     "start_time": "2022-05-18T17:34:31.742829",
     "status": "completed"
    },
    "tags": []
   },
   "outputs": [
    {
     "name": "stdout",
     "output_type": "stream",
     "text": [
      "[2.004011392593384, 0.20309597253799438]\n"
     ]
    }
   ],
   "source": [
    "score = model.evaluate(test_generator, verbose = 0)\n",
    "print(score)"
   ]
  },
  {
   "cell_type": "code",
   "execution_count": 9,
   "id": "a1dfca11",
   "metadata": {
    "execution": {
     "iopub.execute_input": "2022-05-18T17:34:40.688521Z",
     "iopub.status.busy": "2022-05-18T17:34:40.688254Z",
     "iopub.status.idle": "2022-05-18T17:34:43.836364Z",
     "shell.execute_reply": "2022-05-18T17:34:43.835222Z"
    },
    "papermill": {
     "duration": 5.300421,
     "end_time": "2022-05-18T17:34:43.838991",
     "exception": false,
     "start_time": "2022-05-18T17:34:38.538570",
     "status": "completed"
    },
    "tags": []
   },
   "outputs": [],
   "source": [
    "y_pred = model.predict(test_generator)"
   ]
  },
  {
   "cell_type": "code",
   "execution_count": 10,
   "id": "42b3d50d",
   "metadata": {
    "execution": {
     "iopub.execute_input": "2022-05-18T17:34:47.985314Z",
     "iopub.status.busy": "2022-05-18T17:34:47.984511Z",
     "iopub.status.idle": "2022-05-18T17:34:50.549611Z",
     "shell.execute_reply": "2022-05-18T17:34:50.548680Z"
    },
    "papermill": {
     "duration": 4.644248,
     "end_time": "2022-05-18T17:34:50.552123",
     "exception": false,
     "start_time": "2022-05-18T17:34:45.907875",
     "status": "completed"
    },
    "tags": []
   },
   "outputs": [],
   "source": [
    "from sklearn.metrics import classification_report\n",
    "\n",
    "preds=model.predict(test_generator)\n",
    "y_pred = np.argmax(preds,axis=1)\n",
    "y_actual = test_generator.classes"
   ]
  },
  {
   "cell_type": "code",
   "execution_count": 11,
   "id": "f4e90e5a",
   "metadata": {
    "execution": {
     "iopub.execute_input": "2022-05-18T17:34:55.173323Z",
     "iopub.status.busy": "2022-05-18T17:34:55.172680Z",
     "iopub.status.idle": "2022-05-18T17:34:55.177517Z",
     "shell.execute_reply": "2022-05-18T17:34:55.176672Z"
    },
    "papermill": {
     "duration": 2.445901,
     "end_time": "2022-05-18T17:34:55.181267",
     "exception": false,
     "start_time": "2022-05-18T17:34:52.735366",
     "status": "completed"
    },
    "tags": []
   },
   "outputs": [
    {
     "name": "stdout",
     "output_type": "stream",
     "text": [
      "['Apple Red 1', 'Banana', 'Blueberry', 'Cherry 1', 'Grape Pink', 'Kiwi', 'Lemon', 'Mango', 'Orange', 'Watermelon']\n"
     ]
    }
   ],
   "source": [
    "labels = list(test_generator.class_indices.keys())\n",
    "print(labels)"
   ]
  },
  {
   "cell_type": "code",
   "execution_count": 12,
   "id": "11a5c6f3",
   "metadata": {
    "execution": {
     "iopub.execute_input": "2022-05-18T17:34:59.565716Z",
     "iopub.status.busy": "2022-05-18T17:34:59.565433Z",
     "iopub.status.idle": "2022-05-18T17:34:59.580239Z",
     "shell.execute_reply": "2022-05-18T17:34:59.579305Z"
    },
    "papermill": {
     "duration": 2.170612,
     "end_time": "2022-05-18T17:34:59.585245",
     "exception": false,
     "start_time": "2022-05-18T17:34:57.414633",
     "status": "completed"
    },
    "tags": []
   },
   "outputs": [
    {
     "name": "stdout",
     "output_type": "stream",
     "text": [
      "              precision    recall  f1-score   support\n",
      "\n",
      " Apple Red 1       0.11      1.00      0.20       164\n",
      "      Banana       0.00      0.00      0.00       166\n",
      "   Blueberry       0.00      0.00      0.00       154\n",
      "    Cherry 1       1.00      1.00      1.00       164\n",
      "  Grape Pink       0.00      0.00      0.00       164\n",
      "        Kiwi       0.00      0.00      0.00       156\n",
      "       Lemon       0.00      0.00      0.00       164\n",
      "       Mango       0.00      0.00      0.00       166\n",
      "      Orange       0.00      0.00      0.00       160\n",
      "  Watermelon       0.00      0.00      0.00       157\n",
      "\n",
      "    accuracy                           0.20      1615\n",
      "   macro avg       0.11      0.20      0.12      1615\n",
      "weighted avg       0.11      0.20      0.12      1615\n",
      "\n"
     ]
    },
    {
     "name": "stderr",
     "output_type": "stream",
     "text": [
      "/opt/conda/lib/python3.7/site-packages/sklearn/metrics/_classification.py:1318: UndefinedMetricWarning: Precision and F-score are ill-defined and being set to 0.0 in labels with no predicted samples. Use `zero_division` parameter to control this behavior.\n",
      "  _warn_prf(average, modifier, msg_start, len(result))\n",
      "/opt/conda/lib/python3.7/site-packages/sklearn/metrics/_classification.py:1318: UndefinedMetricWarning: Precision and F-score are ill-defined and being set to 0.0 in labels with no predicted samples. Use `zero_division` parameter to control this behavior.\n",
      "  _warn_prf(average, modifier, msg_start, len(result))\n",
      "/opt/conda/lib/python3.7/site-packages/sklearn/metrics/_classification.py:1318: UndefinedMetricWarning: Precision and F-score are ill-defined and being set to 0.0 in labels with no predicted samples. Use `zero_division` parameter to control this behavior.\n",
      "  _warn_prf(average, modifier, msg_start, len(result))\n"
     ]
    }
   ],
   "source": [
    "print(classification_report(y_actual, y_pred, target_names=labels))"
   ]
  },
  {
   "cell_type": "code",
   "execution_count": null,
   "id": "7d900251",
   "metadata": {
    "papermill": {
     "duration": 2.079215,
     "end_time": "2022-05-18T17:35:03.788478",
     "exception": false,
     "start_time": "2022-05-18T17:35:01.709263",
     "status": "completed"
    },
    "tags": []
   },
   "outputs": [],
   "source": []
  }
 ],
 "metadata": {
  "kernelspec": {
   "display_name": "Python 3",
   "language": "python",
   "name": "python3"
  },
  "language_info": {
   "codemirror_mode": {
    "name": "ipython",
    "version": 3
   },
   "file_extension": ".py",
   "mimetype": "text/x-python",
   "name": "python",
   "nbconvert_exporter": "python",
   "pygments_lexer": "ipython3",
   "version": "3.7.12"
  },
  "papermill": {
   "default_parameters": {},
   "duration": 817.503774,
   "end_time": "2022-05-18T17:35:09.026816",
   "environment_variables": {},
   "exception": null,
   "input_path": "__notebook__.ipynb",
   "output_path": "__notebook__.ipynb",
   "parameters": {},
   "start_time": "2022-05-18T17:21:31.523042",
   "version": "2.3.4"
  }
 },
 "nbformat": 4,
 "nbformat_minor": 5
}
